{
 "cells": [
  {
   "cell_type": "markdown",
   "metadata": {},
   "source": [
    "# Data Science Tools and Ecosystem"
   ]
  },
  {
   "cell_type": "markdown",
   "metadata": {},
   "source": [
    "## Introduction\n",
    "\n",
    "In this notebook, Data Science Tools and Ecosystem are summarized.\n"
   ]
  },
  {
   "cell_type": "markdown",
   "metadata": {},
   "source": [
    "## Data Science Languages\n",
    "\n",
    "Some of the popular languages that Data Scientists use are:\n",
    "\n",
    "1. **Python:**\n",
    "   - Widely used for its simplicity, readability, and a vast ecosystem of libraries for data analysis, machine learning, and more.\n",
    "\n",
    "2. **R:**\n",
    "   - Specialized for statistical computing and data visualization, R is commonly used in academia and research.\n",
    "\n",
    "3. **SQL:**\n",
    "   - Essential for working with relational databases, SQL is crucial for data retrieval, manipulation, and analysis.\n",
    "\n",
    "4. **Julia:**\n",
    "   - A high-performance language designed for numerical and scientific computing, gaining popularity in data science applications.\n"
   ]
  },
  {
   "cell_type": "markdown",
   "metadata": {},
   "source": [
    "Some of the commonly used libraries used by Data Scientists include:\n",
    "\n",
    "1. **Pandas**: A library providing high-performance, easy-to-use data structures and data analysis tools.\n",
    "2. **NumPy**: Essential for scientific computing with Python, providing support for large, multi-dimensional arrays and matrices.\n",
    "3. **Matplotlib**: A plotting library for creating static, interactive, and animated visualizations in Python.\n",
    "4. **Scikit-learn**: A tool for data mining and data analysis, built on NumPy, SciPy, and Matplotlib.\n",
    "5. **TensorFlow**: An end-to-end open-source platform for machine learning.\n"
   ]
  },
  {
   "cell_type": "markdown",
   "metadata": {},
   "source": [
    "| Data Science Tools     |\n",
    "|------------------------|\n",
    "| Jupyter Notebooks      |\n",
    "| RStudio                |\n",
    "| Apache Zeppelin        |\n"
   ]
  },
  {
   "cell_type": "markdown",
   "metadata": {},
   "source": [
    "### Examples of Evaluating Arithmetic Expressions in Python\n",
    "\n",
    "Below are a few examples of evaluating arithmetic expressions in Python:\n"
   ]
  },
  {
   "cell_type": "code",
   "execution_count": null,
   "metadata": {},
   "outputs": [
    {
     "data": {
      "text/plain": [
       "17"
      ]
     },
     "metadata": {},
     "output_type": "display_data"
    }
   ],
   "source": [
    "# This a simple arithmetic expression to multiply then add integers.\n",
    "(3*4)+5\n"
   ]
  },
  {
   "cell_type": "code",
   "execution_count": null,
   "metadata": {},
   "outputs": [
    {
     "data": {
      "text/plain": [
       "3.3333333333333335"
      ]
     },
     "metadata": {},
     "output_type": "display_data"
    }
   ],
   "source": [
    "# This will convert 200 minutes to hours by dividing by 60.\n",
    "200 / 60\n"
   ]
  },
  {
   "cell_type": "markdown",
   "metadata": {},
   "source": [
    "## Introduction\n",
    "\n",
    "[Include the content of the introduction cell from Exercise 3 here.]\n",
    "\n",
    "---\n",
    "\n",
    "## Objectives:\n",
    "\n",
    "**1. List popular languages for Data Science:**\n",
    "   - Python\n",
    "   - R\n",
    "   - Julia\n",
    "\n",
    "**2. Understand basic Jupyter Notebook functionalities:**\n",
    "   - Code cells\n",
    "   - Markdown cells\n",
    "   - Running cells\n",
    "\n",
    "**3. Explore data visualization techniques:**\n",
    "   - Matplotlib\n",
    "   - Seaborn\n",
    "\n",
    "**4. Introduce common libraries for data manipulation:**\n",
    "   - Pandas\n",
    "   - NumPy\n",
    "\n",
    "**5. Gain familiarity with machine learning concepts:**\n",
    "   - Supervised learning\n",
    "   - Unsupervised learning\n",
    "   - Evaluation metrics\n"
   ]
  },
  {
   "cell_type": "markdown",
   "metadata": {},
   "source": [
    "## Author\n",
    "\n",
    "Author's name: Lena\n"
   ]
  }
 ],
 "metadata": {
  "language_info": {
   "name": "python"
  }
 },
 "nbformat": 4,
 "nbformat_minor": 2
}
